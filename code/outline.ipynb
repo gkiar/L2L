{
 "cells": [
  {
   "cell_type": "markdown",
   "metadata": {},
   "source": [
    "# Plan:\n",
    "\n",
    "1. get brain graphs and fibers (i.e. connectivity per brain)\n",
    "2. regress (supervised) brain graphs based on age (i.e. predict age from graph)\n",
    "3. cluster (unsupervized) brain graphs into K groups (i.e. brain ages)\n",
    "4. classify (unsupervized) brain graphs into brain ages (i.e. do cool stuff)\n",
    "5. tell the world you're bad ass\n",
    "\n",
    "\n",
    "--------"
   ]
  },
  {
   "cell_type": "markdown",
   "metadata": {},
   "source": [
    "### 1. Get brain graphs and fibers\n",
    "\n",
    "- On 128.220.176.7 we launched a docker instance on subjects (later this will be on cbrain dev server)\n",
    "- Will currently give 24 brain graphs per subject based on different parcellations (i.e. [this](https://raw.githubusercontent.com/neurodata/dataset_variance/master/figs/graphs/atlases.png))\n",
    "- In future, will run with `--debug` flag to save fibers, too\n",
    "\n",
    "The command run was:\n",
    "```\n",
    "docker run -ti -v /home/nsharif/PING:/data bids/ndmg /data /data/out participant --participant_label p0526\n",
    "```\n",
    "\n",
    "--------"
   ]
  },
  {
   "cell_type": "markdown",
   "metadata": {},
   "source": [
    "### 2. Regress (supervised) brain graphs based on age\n",
    "\n",
    "General approach is:\n",
    "- pick feature of data (i.e. vectorize the graph, pick 10 longest fibers, do PCA and pick top 5 dimensions, etc..)\n",
    "- organize the phenotypes which we want to regress (i.e. make vector of ages)\n",
    "- Train regressor with k-fold cross-validation\n",
    "- Evaluate/report performance\n",
    "\n",
    "Example midway down page [here](https://github.com/neurodata/dataset_variance/blob/master/code/prototype/knn_classification.ipynb)."
   ]
  },
  {
   "cell_type": "markdown",
   "metadata": {},
   "source": [
    "### 3. Cluster (unsupervised) brain graphs into K groups\n",
    "\n",
    "Use brain graphs to categorize subjects into clusters based on K number of categories given to programme\n",
    "-- give number, it defines what those categories are based on data, no labels\n",
    "-- are there labels defined by algorithm? do these relate to actual age?\n",
    "\n",
    "try for several features of brain graphs and see which feature has best correspondance to actual age (using connectivity / fiber tracking / white matter/dwi features)\n",
    "\n",
    "-------\n"
   ]
  },
  {
   "cell_type": "markdown",
   "metadata": {},
   "source": [
    "### 4. Classify (unsupervised) brain graphs into brain ages\n",
    "\n",
    "Ribbon plot\n",
    "(compare expected clustering to \"true\" or learned clustering\n",
    "what are boundaries for ground truth and why are they that\n",
    "\n",
    "\n",
    "-------\n"
   ]
  },
  {
   "cell_type": "markdown",
   "metadata": {
    "collapsed": true
   },
   "source": []
  }
 ],
 "metadata": {
  "kernelspec": {
   "display_name": "Python 2",
   "language": "python",
   "name": "python2"
  },
  "language_info": {
   "codemirror_mode": {
    "name": "ipython",
    "version": 2
   },
   "file_extension": ".py",
   "mimetype": "text/x-python",
   "name": "python",
   "nbconvert_exporter": "python",
   "pygments_lexer": "ipython2",
   "version": "2.7.12"
  }
 },
 "nbformat": 4,
 "nbformat_minor": 0
}
